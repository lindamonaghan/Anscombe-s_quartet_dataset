{
 "cells": [
  {
   "cell_type": "markdown",
   "metadata": {},
   "source": [
    "# What is the Anscombe's Quartet Dataset\n",
    "\n",
    "Anscombe's quartet comprises four datasets that have nearly identical simple descriptive statistics, yet appear very different when graphed. Each dataset consists of eleven (x,y) points. They were constructed in 1973 by the statistician Francis Anscombe to demonstrate both the importance of graphing data before analyzing it and the effect of outliers on statistical properties. He described the article as being intended to counter the impression among statisticians that \"numerical calculations are exact, but graphs are rough.\" (Wikipedia)"
   ]
  },
  {
   "cell_type": "markdown",
   "metadata": {},
   "source": [
    "# Here is the dataset\n",
    "\n",
    "Anscombe's quartet\n",
    "I\tII\tIII\tIV\n",
    "x\ty\tx\ty\tx\ty\tx\ty\n",
    "10.0\t8.04\t10.0\t9.14\t10.0\t7.46\t8.0\t6.58\n",
    "8.0\t6.95\t8.0\t8.14\t8.0\t6.77\t8.0\t5.76\n",
    "13.0\t7.58\t13.0\t8.74\t13.0\t12.74\t8.0\t7.71\n",
    "9.0\t8.81\t9.0\t8.77\t9.0\t7.11\t8.0\t8.84I\n",
    "11.0\t8.33\t11.0\t9.26\t11.0\t7.81\t8.0\t8.47\n",
    "14.0\t9.96\t14.0\t8.10\t14.0\t8.84\t8.0\t7.04\n",
    "6.0\t7.24\t6.0\t6.13\t6.0\t6.08\t8.0\t5.25\n",
    "4.0\t4.26\t4.0\t3.10\t4.0\t5.39\t19.0\t12.50\n",
    "12.0\t10.84\t12.0\t9.13\t12.0\t8.15\t8.0\t5.56\n",
    "7.0\t4.82\t7.0\t7.26\t7.0\t6.42\t8.0\t7.91\n",
    "5.0\t5.68\t5.0\t4.74\t5.0\t5.73\t8.0\t6.89"
   ]
  },
  {
   "cell_type": "markdown",
   "metadata": {},
   "source": [
    "# Introduction\n",
    "\n",
    "The Anscombe's quartet dataset is important for teaching the importance of grpahics in data analysis. It consists of four datasets that have identical summmary statistics but disimiliar data graphics. ( https://www.tandfonline.com/doi/abs/10.1198/000313007X220057).\n",
    "\n",
    "\n",
    "Anscombe's quartet comprises four datasets that have nearly identical simple descriptive statistics, yet appear very different when graphed. Each dataset consists of eleven (x,y) points. They were constructed in 1973 by the statistician Francis Anscombe to demonstrate both the importance of graphing data before analyzing it and the effect of outliers on statistical properties. He described the article as being intended to counter the impression among statisticians that \"numerical calculations are exact, but graphs are rough.\" (Wikipedia)\n",
    "\n",
    "Francis's main point in assembling and analyzing the dataset was to show that of all the analytical tools at our disposal our eyes are sometimes the most important.\n",
    "\n",
    "It is not known excatly how Anscombe created the dataset. According to one paper written by Sangit Chattergee and Aykut Firat, it is thought it was created using a genetic algorithm approach. (https://www.tandfonline.com/doi/abs/10.1198/000313007X220057).\n",
    "\n"
   ]
  }
 ],
 "metadata": {
  "kernelspec": {
   "display_name": "Python 3",
   "language": "python",
   "name": "python3"
  },
  "language_info": {
   "codemirror_mode": {
    "name": "ipython",
    "version": 3
   },
   "file_extension": ".py",
   "mimetype": "text/x-python",
   "name": "python",
   "nbconvert_exporter": "python",
   "pygments_lexer": "ipython3",
   "version": "3.6.4"
  }
 },
 "nbformat": 4,
 "nbformat_minor": 2
}
